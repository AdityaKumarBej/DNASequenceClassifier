{
  "cells": [
    {
      "cell_type": "code",
      "execution_count": null,
      "metadata": {
        "id": "ec371063"
      },
      "outputs": [],
      "source": [
        "#import packages\n",
        "\n",
        "import torch\n",
        "import torch.nn as nn\n",
        "from torchvision import datasets\n",
        "from torchvision import transforms\n",
        "import numpy as np\n",
        "import os\n",
        "import torch.nn.functional as F\n",
        "import torch.optim as optim\n",
        "import sys\n",
        "import pandas as pd\n",
        "import re\n",
        "from torch.utils.data import (TensorDataset, DataLoader, RandomSampler,\n",
        "                              SequentialSampler)\n",
        "import numpy as np\n",
        "import matplotlib.pyplot as plt\n",
        "\n",
        "from sklearn.model_selection import train_test_split\n",
        "import tensorflow as tf\n",
        "import matplotlib.pyplot as plt\n",
        "import seaborn as sns\n",
        "from sklearn.feature_extraction.text import CountVectorizer\n",
        "from scipy import stats\n",
        "\n",
        "#Importing models from sklearn\n",
        "from sklearn.neighbors import KNeighborsClassifier\n",
        "from sklearn.tree import DecisionTreeClassifier\n",
        "from sklearn.ensemble import RandomForestClassifier, AdaBoostClassifier\n",
        "from sklearn.metrics import classification_report, accuracy_score\n",
        "\n",
        "device = torch.device(\"cuda\" if torch.cuda.is_available() else \"cpu\")"
      ],
      "id": "ec371063"
    },
    {
      "cell_type": "markdown",
      "source": [
        "**Importing the sequence data of DNA wrappings**"
      ],
      "metadata": {
        "id": "V_4OSvlAh78x"
      },
      "id": "V_4OSvlAh78x"
    },
    {
      "cell_type": "code",
      "execution_count": null,
      "metadata": {
        "colab": {
          "base_uri": "https://localhost:8080/"
        },
        "id": "LLQNyhraVosk",
        "outputId": "eff6940e-14a1-4952-baf8-b739edf6d366"
      },
      "outputs": [
        {
          "output_type": "stream",
          "name": "stdout",
          "text": [
            "Downloading...\n",
            "From: https://drive.google.com/uc?id=15p34lthi5ma_mOZJFDW8fHFS5Lm6RGEF\n",
            "To: /content/H3K79me3.txt\n",
            "\r  0% 0.00/15.1M [00:00<?, ?B/s]\r 31% 4.72M/15.1M [00:00<00:00, 22.0MB/s]\r100% 15.1M/15.1M [00:00<00:00, 60.2MB/s]\n"
          ]
        }
      ],
      "source": [
        "!gdown 15p34lthi5ma_mOZJFDW8fHFS5Lm6RGEF\n"
      ],
      "id": "LLQNyhraVosk"
    },
    {
      "cell_type": "code",
      "execution_count": null,
      "metadata": {
        "id": "595a5fc1"
      },
      "outputs": [],
      "source": [
        "seqs = []\n",
        "labels = []\n",
        "\n",
        "f = open('H3K79me3.txt')\n",
        "for i, line in enumerate(f):\n",
        "    if i % 3 == 1:\n",
        "        line = re.sub('[^ATCGatcg]', '', line)\n",
        "        seqs.append(line)\n",
        "    if i%3 == 2:\n",
        "        labels.append(int(line[0]))\n",
        "f.close()"
      ],
      "id": "595a5fc1"
    },
    {
      "cell_type": "markdown",
      "source": [
        "# **Data Exploration and Visualization**"
      ],
      "metadata": {
        "id": "lrm94YuiiOXA"
      },
      "id": "lrm94YuiiOXA"
    },
    {
      "cell_type": "code",
      "execution_count": null,
      "metadata": {
        "id": "88duaGQEaKI_"
      },
      "outputs": [],
      "source": [
        "data = []\n",
        "for i,j in zip(seqs,labels):\n",
        "  data.append([i,len(i),j])\n"
      ],
      "id": "88duaGQEaKI_"
    },
    {
      "cell_type": "code",
      "execution_count": null,
      "metadata": {
        "colab": {
          "base_uri": "https://localhost:8080/",
          "height": 204
        },
        "id": "tMsvQmMob_p1",
        "outputId": "1e73200e-24d3-47be-d763-cb7e18d86a9a"
      },
      "outputs": [
        {
          "output_type": "execute_result",
          "data": {
            "text/plain": [
              "                                            Sequence  length  Class\n",
              "0  CACACCACACCCACACACCCACACACCACACCACACACCACACCAC...     310      1\n",
              "1  CATGTAGTATTGGGCTAAGTGAGCTCTGATATCAGAGACGTAGACA...     500      0\n",
              "2  CTGAATTCAGTCTGCTTTAAACGGCTTCCGCGGAGGAAATATTTCC...     500      0\n",
              "3  TAGCCGCTGAGAAGCGGATGGTAATGAGACAAGTTGATATCAAACA...     500      0\n",
              "4  AGGGAAACAGTAAACAGTGAAAATTCTCTTGAGAACCAAAGTAAAC...     500      0"
            ],
            "text/html": [
              "\n",
              "  <div id=\"df-3b4af834-390e-42cd-9e18-8061abd7b86f\">\n",
              "    <div class=\"colab-df-container\">\n",
              "      <div>\n",
              "<style scoped>\n",
              "    .dataframe tbody tr th:only-of-type {\n",
              "        vertical-align: middle;\n",
              "    }\n",
              "\n",
              "    .dataframe tbody tr th {\n",
              "        vertical-align: top;\n",
              "    }\n",
              "\n",
              "    .dataframe thead th {\n",
              "        text-align: right;\n",
              "    }\n",
              "</style>\n",
              "<table border=\"1\" class=\"dataframe\">\n",
              "  <thead>\n",
              "    <tr style=\"text-align: right;\">\n",
              "      <th></th>\n",
              "      <th>Sequence</th>\n",
              "      <th>length</th>\n",
              "      <th>Class</th>\n",
              "    </tr>\n",
              "  </thead>\n",
              "  <tbody>\n",
              "    <tr>\n",
              "      <th>0</th>\n",
              "      <td>CACACCACACCCACACACCCACACACCACACCACACACCACACCAC...</td>\n",
              "      <td>310</td>\n",
              "      <td>1</td>\n",
              "    </tr>\n",
              "    <tr>\n",
              "      <th>1</th>\n",
              "      <td>CATGTAGTATTGGGCTAAGTGAGCTCTGATATCAGAGACGTAGACA...</td>\n",
              "      <td>500</td>\n",
              "      <td>0</td>\n",
              "    </tr>\n",
              "    <tr>\n",
              "      <th>2</th>\n",
              "      <td>CTGAATTCAGTCTGCTTTAAACGGCTTCCGCGGAGGAAATATTTCC...</td>\n",
              "      <td>500</td>\n",
              "      <td>0</td>\n",
              "    </tr>\n",
              "    <tr>\n",
              "      <th>3</th>\n",
              "      <td>TAGCCGCTGAGAAGCGGATGGTAATGAGACAAGTTGATATCAAACA...</td>\n",
              "      <td>500</td>\n",
              "      <td>0</td>\n",
              "    </tr>\n",
              "    <tr>\n",
              "      <th>4</th>\n",
              "      <td>AGGGAAACAGTAAACAGTGAAAATTCTCTTGAGAACCAAAGTAAAC...</td>\n",
              "      <td>500</td>\n",
              "      <td>0</td>\n",
              "    </tr>\n",
              "  </tbody>\n",
              "</table>\n",
              "</div>\n",
              "      <button class=\"colab-df-convert\" onclick=\"convertToInteractive('df-3b4af834-390e-42cd-9e18-8061abd7b86f')\"\n",
              "              title=\"Convert this dataframe to an interactive table.\"\n",
              "              style=\"display:none;\">\n",
              "        \n",
              "  <svg xmlns=\"http://www.w3.org/2000/svg\" height=\"24px\"viewBox=\"0 0 24 24\"\n",
              "       width=\"24px\">\n",
              "    <path d=\"M0 0h24v24H0V0z\" fill=\"none\"/>\n",
              "    <path d=\"M18.56 5.44l.94 2.06.94-2.06 2.06-.94-2.06-.94-.94-2.06-.94 2.06-2.06.94zm-11 1L8.5 8.5l.94-2.06 2.06-.94-2.06-.94L8.5 2.5l-.94 2.06-2.06.94zm10 10l.94 2.06.94-2.06 2.06-.94-2.06-.94-.94-2.06-.94 2.06-2.06.94z\"/><path d=\"M17.41 7.96l-1.37-1.37c-.4-.4-.92-.59-1.43-.59-.52 0-1.04.2-1.43.59L10.3 9.45l-7.72 7.72c-.78.78-.78 2.05 0 2.83L4 21.41c.39.39.9.59 1.41.59.51 0 1.02-.2 1.41-.59l7.78-7.78 2.81-2.81c.8-.78.8-2.07 0-2.86zM5.41 20L4 18.59l7.72-7.72 1.47 1.35L5.41 20z\"/>\n",
              "  </svg>\n",
              "      </button>\n",
              "      \n",
              "  <style>\n",
              "    .colab-df-container {\n",
              "      display:flex;\n",
              "      flex-wrap:wrap;\n",
              "      gap: 12px;\n",
              "    }\n",
              "\n",
              "    .colab-df-convert {\n",
              "      background-color: #E8F0FE;\n",
              "      border: none;\n",
              "      border-radius: 50%;\n",
              "      cursor: pointer;\n",
              "      display: none;\n",
              "      fill: #1967D2;\n",
              "      height: 32px;\n",
              "      padding: 0 0 0 0;\n",
              "      width: 32px;\n",
              "    }\n",
              "\n",
              "    .colab-df-convert:hover {\n",
              "      background-color: #E2EBFA;\n",
              "      box-shadow: 0px 1px 2px rgba(60, 64, 67, 0.3), 0px 1px 3px 1px rgba(60, 64, 67, 0.15);\n",
              "      fill: #174EA6;\n",
              "    }\n",
              "\n",
              "    [theme=dark] .colab-df-convert {\n",
              "      background-color: #3B4455;\n",
              "      fill: #D2E3FC;\n",
              "    }\n",
              "\n",
              "    [theme=dark] .colab-df-convert:hover {\n",
              "      background-color: #434B5C;\n",
              "      box-shadow: 0px 1px 3px 1px rgba(0, 0, 0, 0.15);\n",
              "      filter: drop-shadow(0px 1px 2px rgba(0, 0, 0, 0.3));\n",
              "      fill: #FFFFFF;\n",
              "    }\n",
              "  </style>\n",
              "\n",
              "      <script>\n",
              "        const buttonEl =\n",
              "          document.querySelector('#df-3b4af834-390e-42cd-9e18-8061abd7b86f button.colab-df-convert');\n",
              "        buttonEl.style.display =\n",
              "          google.colab.kernel.accessAllowed ? 'block' : 'none';\n",
              "\n",
              "        async function convertToInteractive(key) {\n",
              "          const element = document.querySelector('#df-3b4af834-390e-42cd-9e18-8061abd7b86f');\n",
              "          const dataTable =\n",
              "            await google.colab.kernel.invokeFunction('convertToInteractive',\n",
              "                                                     [key], {});\n",
              "          if (!dataTable) return;\n",
              "\n",
              "          const docLinkHtml = 'Like what you see? Visit the ' +\n",
              "            '<a target=\"_blank\" href=https://colab.research.google.com/notebooks/data_table.ipynb>data table notebook</a>'\n",
              "            + ' to learn more about interactive tables.';\n",
              "          element.innerHTML = '';\n",
              "          dataTable['output_type'] = 'display_data';\n",
              "          await google.colab.output.renderOutput(dataTable, element);\n",
              "          const docLink = document.createElement('div');\n",
              "          docLink.innerHTML = docLinkHtml;\n",
              "          element.appendChild(docLink);\n",
              "        }\n",
              "      </script>\n",
              "    </div>\n",
              "  </div>\n",
              "  "
            ]
          },
          "metadata": {},
          "execution_count": 5
        }
      ],
      "source": [
        "df = pd.DataFrame (data, columns = ['Sequence','length', 'Class'])\n",
        "df.head(5)"
      ],
      "id": "tMsvQmMob_p1"
    },
    {
      "cell_type": "code",
      "execution_count": null,
      "metadata": {
        "colab": {
          "base_uri": "https://localhost:8080/"
        },
        "id": "YHwlJa8jgaXb",
        "outputId": "9c9648bc-b882-4930-d986-38d597063ac7"
      },
      "outputs": [
        {
          "output_type": "stream",
          "name": "stdout",
          "text": [
            "Maximum length of nucleotides in a sequence : 500\n",
            "Average length of nucleotides in a sequence : 500.0\n",
            "Minimum length of nucleotides in a sequence : 290\n"
          ]
        }
      ],
      "source": [
        "print(\"Maximum length of nucleotides in a sequence :\",df.length.max())\n",
        "print(\"Average length of nucleotides in a sequence :\",df.length.mean().round())\n",
        "print(\"Minimum length of nucleotides in a sequence :\",df.length.min())"
      ],
      "id": "YHwlJa8jgaXb"
    },
    {
      "cell_type": "code",
      "execution_count": null,
      "metadata": {
        "colab": {
          "base_uri": "https://localhost:8080/",
          "height": 474
        },
        "id": "zy6ijhaNczJr",
        "outputId": "0e999835-2792-4b26-a81f-419dbe76b547"
      },
      "outputs": [
        {
          "output_type": "stream",
          "name": "stderr",
          "text": [
            "/usr/local/lib/python3.8/dist-packages/seaborn/categorical.py:3717: UserWarning: The `factorplot` function has been renamed to `catplot`. The original name will be removed in a future release. Please update your code. Note that the default `kind` in `factorplot` (`'point'`) has changed `'strip'` in `catplot`.\n",
            "  warnings.warn(msg)\n",
            "/usr/local/lib/python3.8/dist-packages/seaborn/_decorators.py:36: FutureWarning: Pass the following variable as a keyword arg: x. From version 0.12, the only valid positional argument will be `data`, and passing other arguments without an explicit keyword will result in an error or misinterpretation.\n",
            "  warnings.warn(\n"
          ]
        },
        {
          "output_type": "execute_result",
          "data": {
            "text/plain": [
              "<seaborn.axisgrid.FacetGrid at 0x7f237b2d0ca0>"
            ]
          },
          "metadata": {},
          "execution_count": 7
        },
        {
          "output_type": "display_data",
          "data": {
            "text/plain": [
              "<Figure size 360x360 with 1 Axes>"
            ],
            "image/png": "[encoded data removed]"
          },
          "metadata": {
            "needs_background": "light"
          }
        }
      ],
      "source": [
        "sns.factorplot('Class',data=df,kind='count')"
      ],
      "id": "zy6ijhaNczJr"
    },
    {
      "cell_type": "code",
      "execution_count": null,
      "metadata": {
        "colab": {
          "base_uri": "https://localhost:8080/"
        },
        "id": "ofAaIycafFov",
        "outputId": "d64c724f-762f-46f8-a3ad-fe1378a58924"
      },
      "outputs": [
        {
          "output_type": "stream",
          "name": "stdout",
          "text": [
            "Samples with no DNA wrapping around histone protein : 13500\n",
            "Samples with DNA wrapping around histone protein : 15337\n"
          ]
        }
      ],
      "source": [
        "print(\"Samples with no DNA wrapping around histone protein :\",df[df.Class == 0].shape[0])\n",
        "print(\"Samples with DNA wrapping around histone protein :\",df[df.Class == 1].shape[0])"
      ],
      "id": "ofAaIycafFov"
    },
    {
      "cell_type": "markdown",
      "source": [
        "# **K-mer based Classification**"
      ],
      "metadata": {
        "id": "AkXoIchgigGE"
      },
      "id": "AkXoIchgigGE"
    },
    {
      "cell_type": "code",
      "execution_count": null,
      "metadata": {
        "id": "0efbd575"
      },
      "outputs": [],
      "source": [
        "def Kmers(sequence, size=6):\n",
        "    return [sequence[x:x+size].lower() for x in range(len(sequence) - size + 1)]\n",
        "\n",
        "kmer_seq=[]\n",
        "for seq in seqs:\n",
        "    kmer_seq.append(Kmers(seq))\n",
        "    \n"
      ],
      "id": "0efbd575"
    },
    {
      "cell_type": "code",
      "execution_count": null,
      "metadata": {
        "colab": {
          "base_uri": "https://localhost:8080/"
        },
        "id": "eqKE_JjYmTLL",
        "outputId": "d6578456-6fd2-4068-af6d-b8779eb0c6b2"
      },
      "outputs": [
        {
          "output_type": "stream",
          "name": "stdout",
          "text": [
            "['cacacc', 'acacca', 'caccac', 'accaca', 'ccacac', 'cacacc', 'acaccc', 'caccca', 'acccac', 'cccaca', 'ccacac', 'cacaca', 'acacac', 'cacacc', 'acaccc', 'caccca', 'acccac', 'cccaca', 'ccacac', 'cacaca', 'acacac', 'cacacc', 'acacca', 'caccac', 'accaca', 'ccacac', 'cacacc', 'acacca', 'caccac', 'accaca', 'ccacac', 'cacaca', 'acacac', 'cacacc', 'acacca', 'caccac', 'accaca', 'ccacac', 'cacacc', 'acacca', 'caccac', 'accaca', 'ccacac', 'cacacc', 'acaccc', 'caccca', 'acccac', 'cccaca', 'ccacac', 'cacaca', 'acacac', 'cacaca', 'acacac', 'cacaca', 'acacac', 'cacaca', 'acacat', 'cacatc', 'acatcc', 'catcct', 'atccta', 'tcctaa', 'cctaac', 'ctaaca', 'taacac', 'aacact', 'acacta', 'cactac', 'actacc', 'ctaccc', 'taccct', 'acccta', 'ccctaa', 'cctaac', 'ctaaca', 'taacac', 'aacaca', 'acacag', 'cacagc', 'acagcc', 'cagccc', 'agccct', 'gcccta', 'ccctaa', 'cctaat', 'ctaatc', 'taatct', 'aatcta', 'atctaa', 'tctaac', 'ctaacc', 'taaccc', 'aaccct', 'accctg', 'ccctgg', 'cctggc', 'ctggcc', 'tggcca', 'ggccaa', 'gccaac', 'ccaacc', 'caacct', 'aacctg', 'acctgt', 'cctgtc', 'ctgtct', 'tgtctc', 'gtctct', 'tctctc', 'ctctca', 'tctcaa', 'ctcaac', 'tcaact', 'caactt', 'aactta', 'acttac', 'cttacc', 'ttaccc', 'taccct', 'accctc', 'ccctcc', 'cctcca', 'ctccat', 'tccatt', 'ccatta', 'cattac', 'attacc', 'ttaccc', 'taccct', 'accctg', 'ccctgc', 'cctgcc', 'ctgcct', 'tgcctc', 'gcctcc', 'cctcca', 'ctccac', 'tccact', 'ccactc', 'cactcg', 'actcgt', 'ctcgtt', 'tcgtta', 'cgttac', 'gttacc', 'ttaccc', 'taccct', 'accctg', 'ccctgt', 'cctgtc', 'ctgtcc', 'tgtccc', 'gtccca', 'tcccat', 'cccatt', 'ccattc', 'cattca', 'attcaa', 'ttcaac', 'tcaacc', 'caacca', 'aaccat', 'accata', 'ccatac', 'catacc', 'atacca', 'taccac', 'accact', 'ccactc', 'cactcc', 'actccg', 'ctccga', 'tccgaa', 'ccgaac', 'cgaacc', 'gaacca', 'aaccac', 'accacc', 'ccacca', 'caccat', 'accatc', 'ccatcc', 'catcca', 'atccat', 'tccatc', 'ccatcc', 'catccc', 'atccct', 'tccctc', 'ccctct', 'cctcta', 'ctctac', 'tctact', 'ctactt', 'tactta', 'acttac', 'cttact', 'ttacta', 'tactac', 'actacc', 'ctacca', 'taccac', 'accact', 'ccactc', 'cactca', 'actcac', 'ctcacc', 'tcaccc', 'caccca', 'acccac', 'cccacc', 'ccaccg', 'caccgt', 'accgtt', 'ccgtta', 'cgttac', 'gttacc', 'ttaccc', 'taccct', 'accctc', 'ccctcc', 'cctcca', 'ctccaa', 'tccaat', 'ccaatt', 'caatta', 'aattac', 'attacc', 'ttaccc', 'taccca', 'acccat', 'cccata', 'ccatat', 'catatc', 'atatcc', 'tatcca', 'atccaa', 'tccaac', 'ccaacc', 'caaccc', 'aaccca', 'acccac', 'cccact', 'ccactg', 'cactgc', 'actgcc', 'ctgcca', 'tgccac', 'gccact', 'ccactt', 'cactta', 'acttac', 'cttacc', 'ttaccc', 'taccct', 'acccta', 'ccctac', 'cctacc', 'ctacca', 'taccat', 'accatt', 'ccatta', 'cattac', 'attacc', 'ttaccc', 'taccct', 'acccta', 'ccctac', 'cctacc', 'ctacca', 'taccat', 'accatc', 'ccatcc', 'catcca', 'atccac', 'tccacc', 'ccacca', 'caccat', 'accatg', 'ccatga', 'catgac', 'atgacc', 'tgacct', 'gaccta', 'acctac', 'cctact', 'ctactc', 'tactca', 'actcac', 'ctcacc', 'tcacca', 'caccat', 'accata', 'ccatac', 'catact', 'atactg', 'tactgt', 'actgtt', 'ctgttc', 'tgttct', 'gttctt', 'ttcttc', 'tcttct', 'cttcta', 'ttctac']\n"
          ]
        }
      ],
      "source": [
        "print(kmer_seq[0])"
      ],
      "id": "eqKE_JjYmTLL"
    },
    {
      "cell_type": "code",
      "execution_count": null,
      "metadata": {
        "id": "df4851a7"
      },
      "outputs": [],
      "source": [
        "for item in range(len(kmer_seq)):\n",
        "    kmer_seq[item] = ' '.join(kmer_seq[item])"
      ],
      "id": "df4851a7"
    },
    {
      "cell_type": "code",
      "execution_count": null,
      "metadata": {
        "colab": {
          "base_uri": "https://localhost:8080/"
        },
        "id": "-TqYZBbTmioo",
        "outputId": "2462f620-9841-4db2-ad05-d4400907493d"
      },
      "outputs": [
        {
          "output_type": "stream",
          "name": "stdout",
          "text": [
            "cacacc acacca caccac accaca ccacac cacacc acaccc caccca acccac cccaca ccacac cacaca acacac cacacc acaccc caccca acccac cccaca ccacac cacaca acacac cacacc acacca caccac accaca ccacac cacacc acacca caccac accaca ccacac cacaca acacac cacacc acacca caccac accaca ccacac cacacc acacca caccac accaca ccacac cacacc acaccc caccca acccac cccaca ccacac cacaca acacac cacaca acacac cacaca acacac cacaca acacat cacatc acatcc catcct atccta tcctaa cctaac ctaaca taacac aacact acacta cactac actacc ctaccc taccct acccta ccctaa cctaac ctaaca taacac aacaca acacag cacagc acagcc cagccc agccct gcccta ccctaa cctaat ctaatc taatct aatcta atctaa tctaac ctaacc taaccc aaccct accctg ccctgg cctggc ctggcc tggcca ggccaa gccaac ccaacc caacct aacctg acctgt cctgtc ctgtct tgtctc gtctct tctctc ctctca tctcaa ctcaac tcaact caactt aactta acttac cttacc ttaccc taccct accctc ccctcc cctcca ctccat tccatt ccatta cattac attacc ttaccc taccct accctg ccctgc cctgcc ctgcct tgcctc gcctcc cctcca ctccac tccact ccactc cactcg actcgt ctcgtt tcgtta cgttac gttacc ttaccc taccct accctg ccctgt cctgtc ctgtcc tgtccc gtccca tcccat cccatt ccattc cattca attcaa ttcaac tcaacc caacca aaccat accata ccatac catacc atacca taccac accact ccactc cactcc actccg ctccga tccgaa ccgaac cgaacc gaacca aaccac accacc ccacca caccat accatc ccatcc catcca atccat tccatc ccatcc catccc atccct tccctc ccctct cctcta ctctac tctact ctactt tactta acttac cttact ttacta tactac actacc ctacca taccac accact ccactc cactca actcac ctcacc tcaccc caccca acccac cccacc ccaccg caccgt accgtt ccgtta cgttac gttacc ttaccc taccct accctc ccctcc cctcca ctccaa tccaat ccaatt caatta aattac attacc ttaccc taccca acccat cccata ccatat catatc atatcc tatcca atccaa tccaac ccaacc caaccc aaccca acccac cccact ccactg cactgc actgcc ctgcca tgccac gccact ccactt cactta acttac cttacc ttaccc taccct acccta ccctac cctacc ctacca taccat accatt ccatta cattac attacc ttaccc taccct acccta ccctac cctacc ctacca taccat accatc ccatcc catcca atccac tccacc ccacca caccat accatg ccatga catgac atgacc tgacct gaccta acctac cctact ctactc tactca actcac ctcacc tcacca caccat accata ccatac catact atactg tactgt actgtt ctgttc tgttct gttctt ttcttc tcttct cttcta ttctac\n"
          ]
        }
      ],
      "source": [
        "print(kmer_seq[0])"
      ],
      "id": "-TqYZBbTmioo"
    },
    {
      "cell_type": "code",
      "execution_count": null,
      "metadata": {
        "id": "6fa45f35"
      },
      "outputs": [],
      "source": [
        "cv = CountVectorizer(ngram_range=(4,4))\n",
        "Kmer_verctorized = cv.fit_transform(kmer_seq)"
      ],
      "id": "6fa45f35"
    },
    {
      "cell_type": "code",
      "execution_count": null,
      "metadata": {
        "id": "27114cbd"
      },
      "outputs": [],
      "source": [
        "train_x, test_x, train_y, test_y = train_test_split(Kmer_verctorized , labels, test_size=0.1, random_state=42)"
      ],
      "id": "27114cbd"
    },
    {
      "cell_type": "code",
      "execution_count": null,
      "metadata": {
        "colab": {
          "base_uri": "https://localhost:8080/"
        },
        "id": "zQP8oOIOna93",
        "outputId": "3ad132f4-c601-407c-b7cb-0386a5b6b16c"
      },
      "outputs": [
        {
          "output_type": "stream",
          "name": "stdout",
          "text": [
            "K Nearest Neighbors: 0.6701324848366095 (0.0436227169195937)\n",
            "Decision Tree: 0.6548372626035015 (0.008104347588762564)\n",
            "Random Forest: 0.5349283023237172 (0.007326781108473265)\n",
            "AddaBoost: 0.7068543869180687 (0.007266520808956555)\n"
          ]
        }
      ],
      "source": [
        "# Models to train\n",
        "names = ['K Nearest Neighbors', 'Decision Tree', 'Random Forest', 'AddaBoost']\n",
        "Classifiers = [\n",
        "    KNeighborsClassifier(n_neighbors = 3),\n",
        "    DecisionTreeClassifier(max_depth = 5),\n",
        "    RandomForestClassifier(max_depth = 5, n_estimators = 10, max_features = 1 ),\n",
        "    AdaBoostClassifier(),    \n",
        "    ]\n",
        "    \n",
        "models = zip(names, Classifiers)\n",
        "# import KFold\n",
        "from sklearn.model_selection import KFold, cross_val_score\n",
        "\n",
        "names = []\n",
        "result = []\n",
        "for name, model in models:\n",
        "    kfold = KFold(n_splits = 10)\n",
        "    cv_results = cross_val_score(model, train_x, train_y, cv = kfold, scoring = 'accuracy')\n",
        "    result.append(cv_results)\n",
        "    names.append(name)\n",
        "    msg = \"{0}: {1} ({2})\".format(name, cv_results.mean(), cv_results.std())\n",
        "    print(msg)"
      ],
      "id": "zQP8oOIOna93"
    },
    {
      "cell_type": "code",
      "source": [
        "names = ['K Nearest Neighbors', 'Decision Tree', 'Random Forest', 'AddaBoost']\n",
        "Classifiers = [\n",
        "    KNeighborsClassifier(n_neighbors = 3),\n",
        "    DecisionTreeClassifier(max_depth = 5),\n",
        "    RandomForestClassifier(max_depth = 5, n_estimators = 10, max_features = 1 ),\n",
        "    AdaBoostClassifier(),    \n",
        "    ]\n",
        "\n",
        "models = zip(names, Classifiers)\n",
        "\n",
        "for name, model in models:\n",
        "    model.fit(train_x, train_y)\n",
        "    preds = model.predict(test_x)\n",
        "    print(name)\n",
        "    print(accuracy_score(test_y, preds))\n",
        "    print(classification_report(test_y, preds))"
      ],
      "metadata": {
        "colab": {
          "base_uri": "https://localhost:8080/"
        },
        "id": "ZpAVTSAnKR51",
        "outputId": "ee1b6ba9-d8a4-460f-a445-f420398e9323"
      },
      "id": "ZpAVTSAnKR51",
      "execution_count": null,
      "outputs": [
        {
          "output_type": "stream",
          "name": "stdout",
          "text": [
            "K Nearest Neighbors\n",
            "0.6719833564493759\n",
            "              precision    recall  f1-score   support\n",
            "\n",
            "           0       0.60      0.91      0.73      1379\n",
            "           1       0.84      0.46      0.59      1505\n",
            "\n",
            "    accuracy                           0.67      2884\n",
            "   macro avg       0.72      0.68      0.66      2884\n",
            "weighted avg       0.73      0.67      0.66      2884\n",
            "\n",
            "Decision Tree\n",
            "0.6560332871012483\n",
            "              precision    recall  f1-score   support\n",
            "\n",
            "           0       0.78      0.40      0.52      1379\n",
            "           1       0.62      0.90      0.73      1505\n",
            "\n",
            "    accuracy                           0.66      2884\n",
            "   macro avg       0.70      0.65      0.63      2884\n",
            "weighted avg       0.69      0.66      0.63      2884\n",
            "\n",
            "Random Forest\n",
            "0.5232316227461858\n",
            "              precision    recall  f1-score   support\n",
            "\n",
            "           0       0.64      0.01      0.01      1379\n",
            "           1       0.52      1.00      0.69      1505\n",
            "\n",
            "    accuracy                           0.52      2884\n",
            "   macro avg       0.58      0.50      0.35      2884\n",
            "weighted avg       0.58      0.52      0.36      2884\n",
            "\n",
            "AddaBoost\n",
            "0.7045769764216366\n",
            "              precision    recall  f1-score   support\n",
            "\n",
            "           0       0.75      0.57      0.65      1379\n",
            "           1       0.68      0.83      0.75      1505\n",
            "\n",
            "    accuracy                           0.70      2884\n",
            "   macro avg       0.71      0.70      0.70      2884\n",
            "weighted avg       0.71      0.70      0.70      2884\n",
            "\n"
          ]
        }
      ]
    },
    {
      "cell_type": "markdown",
      "source": [
        "# **Onehote Encoding Classification**"
      ],
      "metadata": {
        "id": "sD5wjZ2mjEgW"
      },
      "id": "sD5wjZ2mjEgW"
    },
    {
      "cell_type": "code",
      "execution_count": null,
      "metadata": {
        "id": "aec8c03d"
      },
      "outputs": [],
      "source": [
        "def onehote(sequence):\n",
        "    mapping = {\"A\": 0, \"C\": 1, \"G\": 2, \"T\": 3}\n",
        "    seq2 = [mapping[i] for i in sequence]\n",
        "    return np.eye(4)[seq2]\n",
        "\n",
        "encodedDNA=[]\n",
        "for seq in seqs:\n",
        "    encodedDNA.append(onehote(seq))\n",
        "    \n",
        "paddedSeq=tf.keras.preprocessing.sequence.pad_sequences(encodedDNA)"
      ],
      "id": "aec8c03d"
    },
    {
      "cell_type": "code",
      "execution_count": null,
      "metadata": {
        "id": "1214f25f"
      },
      "outputs": [],
      "source": [
        "train_x, test_x, train_y, test_y = train_test_split(\n",
        "    paddedSeq, labels, test_size=0.1, random_state=42)"
      ],
      "id": "1214f25f"
    },
    {
      "cell_type": "code",
      "execution_count": null,
      "metadata": {
        "id": "33c4eb84"
      },
      "outputs": [],
      "source": [
        "def data_loader(train_x, val_x, train_y, val_y,\n",
        "                batch_size=50):\n",
        "\n",
        "    train_x, val_x, train_y, val_y =\\\n",
        "    tuple(torch.tensor(data) for data in\n",
        "          [train_x, val_x, train_y, val_y])\n",
        "\n",
        "    train_data = TensorDataset(train_x, train_y)\n",
        "    train_sampler = RandomSampler(train_data)\n",
        "    train_dataloader = DataLoader(train_data, sampler=train_sampler, batch_size=batch_size)\n",
        "\n",
        "    val_data = TensorDataset(val_x, val_y)\n",
        "    val_sampler = SequentialSampler(val_data)\n",
        "    val_dataloader = DataLoader(val_data, sampler=val_sampler, batch_size=batch_size)\n",
        "\n",
        "    return train_dataloader, val_dataloader"
      ],
      "id": "33c4eb84"
    },
    {
      "cell_type": "code",
      "execution_count": null,
      "metadata": {
        "colab": {
          "base_uri": "https://localhost:8080/"
        },
        "id": "802602a3",
        "outputId": "b12f047a-2a9a-48ea-c423-99ff2f6a6423"
      },
      "outputs": [
        {
          "output_type": "stream",
          "name": "stderr",
          "text": [
            "<ipython-input-16-60ad578f0999>:5: UserWarning: To copy construct from a tensor, it is recommended to use sourceTensor.clone().detach() or sourceTensor.clone().detach().requires_grad_(True), rather than torch.tensor(sourceTensor).\n",
            "  tuple(torch.tensor(data) for data in\n"
          ]
        }
      ],
      "source": [
        "train_dataloader, test_dataloader = data_loader(torch.permute(torch.tensor(train_x),(0,2,1)), torch.permute(torch.tensor(test_x),(0,2,1)), train_y, test_y, batch_size=50)"
      ],
      "id": "802602a3"
    },
    {
      "cell_type": "code",
      "execution_count": null,
      "metadata": {
        "id": "8247c16d"
      },
      "outputs": [],
      "source": [
        "class OnehotCNN(nn.Module):\n",
        "    def __init__(self, ):\n",
        "        super(OnehotCNN, self).__init__()\n",
        "\n",
        "        self.Conv1 = nn.Conv1d(in_channels=4, out_channels=320, kernel_size=6)\n",
        "        self.Conv2 = nn.Conv1d(in_channels=320, out_channels=320, kernel_size=6)\n",
        "        self.Maxpool1 = nn.MaxPool1d(kernel_size=3, stride=3)\n",
        "        self.Drop1 = nn.Dropout(p=0.2)\n",
        "        \n",
        "        self.Conv3 = nn.Conv1d(in_channels=320, out_channels=480, kernel_size=6)\n",
        "        self.Conv4 = nn.Conv1d(in_channels=480, out_channels=480, kernel_size=6)\n",
        "        self.Maxpool2 = nn.MaxPool1d(kernel_size=3, stride=3)\n",
        "        self.Drop2 = nn.Dropout(p=0.2)\n",
        "\n",
        "        self.Conv5 = nn.Conv1d(in_channels=480, out_channels=960, kernel_size=6)\n",
        "        self.Conv6 = nn.Conv1d(in_channels=960, out_channels=960, kernel_size=6)\n",
        "        self.Drop3 = nn.Dropout(p=0.2)\n",
        "\n",
        "\n",
        "        \n",
        "        self.convs = nn.Sequential(self.Conv1,self.Conv2,self.Maxpool1,self.Drop1,\n",
        "                                    self.Conv3,self.Conv4,self.Maxpool2,self.Drop2,\n",
        "                                   self.Conv5, self.Conv6, self.Drop3,                 \n",
        "                                    )\n",
        "        \n",
        "        self.Linear1 = nn.Linear(960*41, 2004)\n",
        "        self.Linear2 = nn.Linear(2004, 2)\n",
        "        \n",
        "\n",
        "    def forward(self, input):\n",
        "        x = self.convs(input)\n",
        "        x = x.view(-1, 960*41)\n",
        "        x = self.Linear1(x)\n",
        "\n",
        "        x = F.relu(x)\n",
        "        x = self.Linear2(x)\n",
        "\n",
        "        return x"
      ],
      "id": "8247c16d"
    },
    {
      "cell_type": "code",
      "execution_count": null,
      "metadata": {
        "id": "956f4c22"
      },
      "outputs": [],
      "source": [
        "def smooth(x, size):\n",
        "    return np.convolve(x, np.ones(size)/size, mode='same')\n",
        "\n",
        "def accuracy(net, dataloader):\n",
        "\n",
        "    correct = 0\n",
        "    total = 0\n",
        "    with torch.no_grad():\n",
        "        for batch in dataloader:\n",
        "            input, labels = batch\n",
        "            input, labels = input.to(device), labels.to(device)\n",
        "            outputs = net(input.float())\n",
        "            _, predicted = torch.max(outputs.data, 1)\n",
        "            total += labels.size(0)\n",
        "            correct += (predicted == labels).sum().item()\n",
        "    return correct/total\n",
        "\n",
        "\n",
        "def eval(net, train_dataloader, test_dataloader):\n",
        "\n",
        "\n",
        "    train_acc = accuracy(net, train_dataloader)\n",
        "    test_acc = accuracy(net, test_dataloader)\n",
        "    \n",
        "\n",
        "    print(\"Train accuracy: \" + str(accuracy(net, train_dataloader)))\n",
        "    print(\"Test accuracy: \" + str(accuracy(net, test_dataloader)))\n",
        "          \n",
        "    return train_acc, test_acc\n",
        "\n",
        "def plot_losses(losses, smooth_val = None, title = \"\"):\n",
        "\n",
        "    epochs = [i for i in range(1, len(losses) + 1)]\n",
        "    if smooth_val is not None:\n",
        "        lossses = smooth(losses, smooth_val)\n",
        "    plt.plot(epochs, losses, marker=\"o\", linestyle=\"dashed\")\n",
        "    plt.xlabel(\"Epoch\")\n",
        "    plt.ylabel(\"Loss\")\n",
        "    plt.title(title)\n",
        "    \n",
        "def plot_acc(acc, smooth_val = None, title = \"\"):\n",
        " \n",
        "    epochs = [i for i in range(1, len(acc) + 1)]\n",
        "    if smooth_val is not None:\n",
        "        acc = smooth(acc, smooth_val)\n",
        "    plt.plot(epochs, acc, marker=\"o\", linestyle=\"dashed\")\n",
        "    plt.xlabel(\"Epoch\")\n",
        "    plt.ylabel(\"Acc\")\n",
        "    plt.title(title)"
      ],
      "id": "956f4c22"
    },
    {
      "cell_type": "code",
      "execution_count": null,
      "metadata": {
        "id": "d1e01475"
      },
      "outputs": [],
      "source": [
        "def train(net, dataloader, epochs=50, lr=0.001, momentum=0.9, decay=0.005, verbose=1):\n",
        "\n",
        "  net.to(device)\n",
        "  losses_per_epoch = []\n",
        "  acc_per_epoch = []\n",
        "  test_per_epoch = []\n",
        "  criterion = nn.CrossEntropyLoss()\n",
        "  optimizer = optim.SGD(net.parameters(), lr=lr, momentum=momentum, weight_decay=decay)\n",
        "  for epoch in range(epochs):\n",
        "    sum_loss = 0.0\n",
        "    correct = 0\n",
        "    total= 0\n",
        "    losses = []\n",
        "    for i, batch in enumerate(dataloader, 0):\n",
        "        # get the inputs and labels\n",
        "        inputs, labels = batch\n",
        "        inputs, labels = inputs.to(device), labels.to(device)\n",
        "        # zero the parameter gradients\n",
        "        optimizer.zero_grad()\n",
        "\n",
        "        # forward \n",
        "        outputs = net(inputs.float())\n",
        "        loss = criterion(outputs, labels)\n",
        "         # backward \n",
        "        loss.backward()\n",
        "         # optimize \n",
        "        optimizer.step()\n",
        "\n",
        "        # print \n",
        "        losses.append(loss.item())\n",
        "        sum_loss += loss.item()\n",
        "        \n",
        "        _, predicted = torch.max(outputs.data, 1)\n",
        "        total += labels.size(0)\n",
        "        correct += (predicted == labels).sum().item()\n",
        "        \n",
        "        if i % 100 == 99:    # print every 100 mini-batches\n",
        "            if verbose:\n",
        "              print('[%d, %5d] loss: %.3f' %\n",
        "                  (epoch + 1, i + 1, sum_loss / 100))\n",
        "            sum_loss = 0.0\n",
        "    \n",
        "    losses_per_epoch.append(np.mean(losses))\n",
        "    \n",
        "    acc_per_epoch.append(100 * correct / total) \n",
        "\n",
        "    # calculate acc on the test set \n",
        "    correct_test = 0\n",
        "    total_test = 0\n",
        "    with torch.no_grad():\n",
        "        for batch in test_dataloader:\n",
        "            input, labels = batch\n",
        "            input, labels = input.to(device), labels.to(device)\n",
        "            outputs = net(input.float())\n",
        "            _, predicted = torch.max(outputs.data, 1)\n",
        "            total_test += labels.size(0)\n",
        "            correct_test += (predicted == labels).sum().item()\n",
        "            \n",
        "    test_per_epoch.append(100 * correct_test / total_test)\n",
        "    \n",
        "  return losses_per_epoch, acc_per_epoch, test_per_epoch"
      ],
      "id": "d1e01475"
    },
    {
      "cell_type": "code",
      "execution_count": null,
      "metadata": {
        "id": "a8939ac0"
      },
      "outputs": [],
      "source": [
        "net = OnehotCNN()"
      ],
      "id": "a8939ac0"
    },
    {
      "cell_type": "code",
      "execution_count": null,
      "metadata": {
        "colab": {
          "base_uri": "https://localhost:8080/"
        },
        "id": "bc64051d",
        "outputId": "5c754198-4167-42ec-da62-baffa1408c4b"
      },
      "outputs": [
        {
          "output_type": "stream",
          "name": "stdout",
          "text": [
            "[1,   100] loss: 0.692\n",
            "[1,   200] loss: 0.689\n",
            "[1,   300] loss: 0.689\n",
            "[1,   400] loss: 0.687\n",
            "[1,   500] loss: 0.681\n",
            "[2,   100] loss: 0.662\n",
            "[2,   200] loss: 0.610\n",
            "[2,   300] loss: 0.593\n",
            "[2,   400] loss: 0.589\n",
            "[2,   500] loss: 0.592\n",
            "[3,   100] loss: 0.567\n",
            "[3,   200] loss: 0.548\n",
            "[3,   300] loss: 0.565\n",
            "[3,   400] loss: 0.545\n",
            "[3,   500] loss: 0.566\n",
            "[4,   100] loss: 0.533\n",
            "[4,   200] loss: 0.531\n",
            "[4,   300] loss: 0.541\n",
            "[4,   400] loss: 0.531\n",
            "[4,   500] loss: 0.533\n",
            "[5,   100] loss: 0.526\n",
            "[5,   200] loss: 0.510\n",
            "[5,   300] loss: 0.532\n",
            "[5,   400] loss: 0.517\n",
            "[5,   500] loss: 0.508\n",
            "[6,   100] loss: 0.509\n",
            "[6,   200] loss: 0.509\n",
            "[6,   300] loss: 0.503\n",
            "[6,   400] loss: 0.493\n",
            "[6,   500] loss: 0.511\n",
            "[7,   100] loss: 0.498\n",
            "[7,   200] loss: 0.498\n",
            "[7,   300] loss: 0.477\n",
            "[7,   400] loss: 0.488\n",
            "[7,   500] loss: 0.485\n",
            "[8,   100] loss: 0.489\n",
            "[8,   200] loss: 0.488\n",
            "[8,   300] loss: 0.475\n",
            "[8,   400] loss: 0.475\n",
            "[8,   500] loss: 0.485\n",
            "[9,   100] loss: 0.469\n",
            "[9,   200] loss: 0.476\n",
            "[9,   300] loss: 0.491\n",
            "[9,   400] loss: 0.487\n",
            "[9,   500] loss: 0.478\n",
            "[10,   100] loss: 0.470\n",
            "[10,   200] loss: 0.465\n",
            "[10,   300] loss: 0.485\n",
            "[10,   400] loss: 0.480\n",
            "[10,   500] loss: 0.478\n",
            "[11,   100] loss: 0.458\n",
            "[11,   200] loss: 0.483\n",
            "[11,   300] loss: 0.466\n",
            "[11,   400] loss: 0.485\n",
            "[11,   500] loss: 0.460\n",
            "[12,   100] loss: 0.463\n",
            "[12,   200] loss: 0.477\n",
            "[12,   300] loss: 0.462\n",
            "[12,   400] loss: 0.464\n",
            "[12,   500] loss: 0.476\n",
            "[13,   100] loss: 0.470\n",
            "[13,   200] loss: 0.472\n",
            "[13,   300] loss: 0.452\n",
            "[13,   400] loss: 0.480\n",
            "[13,   500] loss: 0.464\n",
            "[14,   100] loss: 0.449\n",
            "[14,   200] loss: 0.470\n",
            "[14,   300] loss: 0.474\n",
            "[14,   400] loss: 0.461\n",
            "[14,   500] loss: 0.455\n",
            "[15,   100] loss: 0.444\n",
            "[15,   200] loss: 0.444\n",
            "[15,   300] loss: 0.472\n",
            "[15,   400] loss: 0.454\n",
            "[15,   500] loss: 0.474\n",
            "[16,   100] loss: 0.455\n",
            "[16,   200] loss: 0.469\n",
            "[16,   300] loss: 0.466\n",
            "[16,   400] loss: 0.458\n",
            "[16,   500] loss: 0.452\n",
            "[17,   100] loss: 0.461\n",
            "[17,   200] loss: 0.457\n",
            "[17,   300] loss: 0.453\n",
            "[17,   400] loss: 0.470\n",
            "[17,   500] loss: 0.448\n",
            "[18,   100] loss: 0.463\n",
            "[18,   200] loss: 0.451\n",
            "[18,   300] loss: 0.460\n",
            "[18,   400] loss: 0.461\n",
            "[18,   500] loss: 0.441\n",
            "[19,   100] loss: 0.445\n",
            "[19,   200] loss: 0.450\n",
            "[19,   300] loss: 0.456\n",
            "[19,   400] loss: 0.462\n",
            "[19,   500] loss: 0.468\n",
            "[20,   100] loss: 0.428\n",
            "[20,   200] loss: 0.460\n",
            "[20,   300] loss: 0.469\n",
            "[20,   400] loss: 0.449\n",
            "[20,   500] loss: 0.458\n",
            "[21,   100] loss: 0.441\n",
            "[21,   200] loss: 0.457\n",
            "[21,   300] loss: 0.451\n",
            "[21,   400] loss: 0.447\n",
            "[21,   500] loss: 0.455\n",
            "[22,   100] loss: 0.450\n",
            "[22,   200] loss: 0.435\n",
            "[22,   300] loss: 0.448\n",
            "[22,   400] loss: 0.450\n",
            "[22,   500] loss: 0.457\n",
            "[23,   100] loss: 0.452\n",
            "[23,   200] loss: 0.444\n",
            "[23,   300] loss: 0.436\n",
            "[23,   400] loss: 0.452\n",
            "[23,   500] loss: 0.455\n",
            "[24,   100] loss: 0.448\n",
            "[24,   200] loss: 0.445\n",
            "[24,   300] loss: 0.447\n",
            "[24,   400] loss: 0.442\n",
            "[24,   500] loss: 0.460\n",
            "[25,   100] loss: 0.442\n",
            "[25,   200] loss: 0.450\n",
            "[25,   300] loss: 0.454\n",
            "[25,   400] loss: 0.458\n",
            "[25,   500] loss: 0.442\n",
            "[26,   100] loss: 0.452\n",
            "[26,   200] loss: 0.451\n",
            "[26,   300] loss: 0.447\n",
            "[26,   400] loss: 0.444\n",
            "[26,   500] loss: 0.455\n",
            "[27,   100] loss: 0.453\n",
            "[27,   200] loss: 0.447\n",
            "[27,   300] loss: 0.443\n",
            "[27,   400] loss: 0.443\n",
            "[27,   500] loss: 0.451\n",
            "[28,   100] loss: 0.439\n",
            "[28,   200] loss: 0.449\n",
            "[28,   300] loss: 0.447\n",
            "[28,   400] loss: 0.452\n",
            "[28,   500] loss: 0.454\n",
            "[29,   100] loss: 0.443\n",
            "[29,   200] loss: 0.451\n",
            "[29,   300] loss: 0.441\n",
            "[29,   400] loss: 0.443\n",
            "[29,   500] loss: 0.442\n",
            "[30,   100] loss: 0.445\n",
            "[30,   200] loss: 0.464\n",
            "[30,   300] loss: 0.432\n",
            "[30,   400] loss: 0.446\n",
            "[30,   500] loss: 0.452\n",
            "[31,   100] loss: 0.449\n",
            "[31,   200] loss: 0.441\n",
            "[31,   300] loss: 0.426\n",
            "[31,   400] loss: 0.464\n",
            "[31,   500] loss: 0.451\n",
            "[32,   100] loss: 0.435\n",
            "[32,   200] loss: 0.443\n",
            "[32,   300] loss: 0.457\n",
            "[32,   400] loss: 0.439\n",
            "[32,   500] loss: 0.452\n",
            "[33,   100] loss: 0.435\n",
            "[33,   200] loss: 0.441\n",
            "[33,   300] loss: 0.444\n",
            "[33,   400] loss: 0.446\n",
            "[33,   500] loss: 0.438\n",
            "[34,   100] loss: 0.447\n",
            "[34,   200] loss: 0.438\n",
            "[34,   300] loss: 0.439\n",
            "[34,   400] loss: 0.440\n",
            "[34,   500] loss: 0.442\n",
            "[35,   100] loss: 0.441\n",
            "[35,   200] loss: 0.437\n",
            "[35,   300] loss: 0.431\n",
            "[35,   400] loss: 0.445\n",
            "[35,   500] loss: 0.456\n",
            "[36,   100] loss: 0.427\n",
            "[36,   200] loss: 0.442\n",
            "[36,   300] loss: 0.443\n",
            "[36,   400] loss: 0.435\n",
            "[36,   500] loss: 0.441\n",
            "[37,   100] loss: 0.441\n",
            "[37,   200] loss: 0.440\n",
            "[37,   300] loss: 0.436\n",
            "[37,   400] loss: 0.442\n",
            "[37,   500] loss: 0.444\n",
            "[38,   100] loss: 0.423\n",
            "[38,   200] loss: 0.434\n",
            "[38,   300] loss: 0.446\n",
            "[38,   400] loss: 0.441\n",
            "[38,   500] loss: 0.432\n",
            "[39,   100] loss: 0.429\n",
            "[39,   200] loss: 0.439\n",
            "[39,   300] loss: 0.438\n",
            "[39,   400] loss: 0.442\n",
            "[39,   500] loss: 0.444\n",
            "[40,   100] loss: 0.441\n",
            "[40,   200] loss: 0.424\n",
            "[40,   300] loss: 0.446\n",
            "[40,   400] loss: 0.429\n",
            "[40,   500] loss: 0.443\n",
            "[41,   100] loss: 0.441\n",
            "[41,   200] loss: 0.443\n",
            "[41,   300] loss: 0.435\n",
            "[41,   400] loss: 0.438\n",
            "[41,   500] loss: 0.436\n",
            "[42,   100] loss: 0.417\n",
            "[42,   200] loss: 0.435\n",
            "[42,   300] loss: 0.456\n",
            "[42,   400] loss: 0.447\n",
            "[42,   500] loss: 0.428\n",
            "[43,   100] loss: 0.425\n",
            "[43,   200] loss: 0.453\n",
            "[43,   300] loss: 0.433\n",
            "[43,   400] loss: 0.441\n",
            "[43,   500] loss: 0.437\n",
            "[44,   100] loss: 0.434\n",
            "[44,   200] loss: 0.427\n",
            "[44,   300] loss: 0.428\n",
            "[44,   400] loss: 0.439\n",
            "[44,   500] loss: 0.443\n",
            "[45,   100] loss: 0.442\n",
            "[45,   200] loss: 0.447\n",
            "[45,   300] loss: 0.434\n",
            "[45,   400] loss: 0.418\n",
            "[45,   500] loss: 0.430\n",
            "[46,   100] loss: 0.430\n",
            "[46,   200] loss: 0.447\n",
            "[46,   300] loss: 0.435\n",
            "[46,   400] loss: 0.431\n",
            "[46,   500] loss: 0.433\n",
            "[47,   100] loss: 0.454\n",
            "[47,   200] loss: 0.431\n",
            "[47,   300] loss: 0.440\n",
            "[47,   400] loss: 0.445\n",
            "[47,   500] loss: 0.437\n",
            "[48,   100] loss: 0.429\n",
            "[48,   200] loss: 0.433\n",
            "[48,   300] loss: 0.437\n",
            "[48,   400] loss: 0.429\n",
            "[48,   500] loss: 0.433\n",
            "[49,   100] loss: 0.442\n",
            "[49,   200] loss: 0.435\n",
            "[49,   300] loss: 0.425\n",
            "[49,   400] loss: 0.438\n",
            "[49,   500] loss: 0.431\n",
            "[50,   100] loss: 0.446\n",
            "[50,   200] loss: 0.436\n",
            "[50,   300] loss: 0.443\n",
            "[50,   400] loss: 0.422\n",
            "[50,   500] loss: 0.433\n"
          ]
        }
      ],
      "source": [
        "Onehot_losses,Onehot_acc,Onehot_test_acc = train(net,train_dataloader,epochs=50 )"
      ],
      "id": "bc64051d"
    },
    {
      "cell_type": "code",
      "execution_count": null,
      "metadata": {
        "colab": {
          "base_uri": "https://localhost:8080/"
        },
        "id": "-nTvZEuvgLtJ",
        "outputId": "624533ba-476b-4691-903a-639c5111bacb"
      },
      "outputs": [
        {
          "output_type": "stream",
          "name": "stdout",
          "text": [
            "Train accuracy: 0.809347666936385\n",
            "Test accuracy: 0.7985436893203883\n"
          ]
        },
        {
          "output_type": "execute_result",
          "data": {
            "text/plain": [
              "(0.8089623550263939, 0.79750346740638)"
            ]
          },
          "metadata": {},
          "execution_count": 12
        }
      ],
      "source": [
        "eval(net, train_dataloader, test_dataloader)"
      ],
      "id": "-nTvZEuvgLtJ"
    },
    {
      "cell_type": "code",
      "source": [
        "with open(\"acc_test.txt\", \"w\") as output:\n",
        "    output.write(str(Onehot_test_acc))"
      ],
      "metadata": {
        "id": "VIMMIb_417ZO"
      },
      "id": "VIMMIb_417ZO",
      "execution_count": null,
      "outputs": []
    },
    {
      "cell_type": "code",
      "source": [
        "torch.save(net.state_dict(), 'OneHotCNN.pth')"
      ],
      "metadata": {
        "id": "hUgR9rhN2eLU"
      },
      "id": "hUgR9rhN2eLU",
      "execution_count": null,
      "outputs": []
    },
    {
      "cell_type": "code",
      "source": [
        "from google.colab import drive\n",
        "drive.mount('/content/drive')"
      ],
      "metadata": {
        "colab": {
          "base_uri": "https://localhost:8080/"
        },
        "id": "LyBgC1SM3dSK",
        "outputId": "66a331ee-2dda-480a-d321-ee361dede80e"
      },
      "id": "LyBgC1SM3dSK",
      "execution_count": null,
      "outputs": [
        {
          "output_type": "stream",
          "name": "stdout",
          "text": [
            "Mounted at /content/drive\n"
          ]
        }
      ]
    },
    {
      "cell_type": "code",
      "source": [
        "!cp OneHotCNN.pth /content/drive/MyDrive"
      ],
      "metadata": {
        "id": "MgY33rCF3V_K"
      },
      "id": "MgY33rCF3V_K",
      "execution_count": null,
      "outputs": []
    },
    {
      "cell_type": "code",
      "execution_count": null,
      "metadata": {
        "colab": {
          "base_uri": "https://localhost:8080/",
          "height": 295
        },
        "id": "5feef524",
        "outputId": "f8d393db-adc8-4fba-a816-29187b0eb865"
      },
      "outputs": [
        {
          "output_type": "display_data",
          "data": {
            "text/plain": [
              "<Figure size 432x288 with 1 Axes>"
            ],
            "image/png": "[encoded data removed]"
          },
          "metadata": {
            "needs_background": "light"
          }
        }
      ],
      "source": [
        "plot_losses(Onehot_losses, title = \"Onehot Encoded: Convolutional Network Loss\")"
      ],
      "id": "5feef524"
    },
    {
      "cell_type": "code",
      "execution_count": null,
      "metadata": {
        "colab": {
          "base_uri": "https://localhost:8080/",
          "height": 295
        },
        "id": "4a06b36d",
        "outputId": "f7130d42-32e4-4594-95e4-d44168a82a7d"
      },
      "outputs": [
        {
          "output_type": "display_data",
          "data": {
            "text/plain": [
              "<Figure size 432x288 with 1 Axes>"
            ],
            "image/png": "[encoded data removed]"
          },
          "metadata": {
            "needs_background": "light"
          }
        }
      ],
      "source": [
        "plot_acc(Onehot_acc, title = \"Onehot Encoded: Convolutional Network training Acc\")"
      ],
      "id": "4a06b36d"
    },
    {
      "cell_type": "code",
      "execution_count": null,
      "metadata": {
        "colab": {
          "base_uri": "https://localhost:8080/",
          "height": 295
        },
        "id": "fsmmTMCKfHIh",
        "outputId": "1f4db584-18db-4ae9-a31a-ed98c7dbbd16"
      },
      "outputs": [
        {
          "output_type": "display_data",
          "data": {
            "text/plain": [
              "<Figure size 432x288 with 1 Axes>"
            ],
            "image/png": "[encoded data removed]"
          },
          "metadata": {
            "needs_background": "light"
          }
        }
      ],
      "source": [
        "plot_acc(Onehot_test_acc, title = \"Onehot Encoded: Convolutional Network test Acc\")"
      ],
      "id": "fsmmTMCKfHIh"
    },
    {
      "cell_type": "markdown",
      "source": [
        "# **Sequence to Vector Classification**"
      ],
      "metadata": {
        "id": "4y3jkLl9jPKO"
      },
      "id": "4y3jkLl9jPKO"
    },
    {
      "cell_type": "code",
      "execution_count": null,
      "metadata": {
        "id": "7jUTUmNlhX9D"
      },
      "outputs": [],
      "source": [
        "def tokenize_seq(seqs):\n",
        "\n",
        "    max_len = 0\n",
        "    vocab_size = {j:i for i,j in enumerate(['<pad>', '<unk>', 'A', 'T', 'C', 'G'])}\n",
        "    i = len(vocab_size)\n",
        "\n",
        "    tokenized_seqs = []\n",
        "    for seq in seqs:\n",
        "        tokenized_seq = []\n",
        "        for e in seq:\n",
        "            seq = seq.upper()\n",
        "            if not e in vocab_size:\n",
        "                vocab_size[e] = i\n",
        "                i += 1\n",
        "            tokenized_seq.append(vocab_size[e])\n",
        "        tokenized_seqs.append(tokenized_seq)\n",
        "        \n",
        "    return tokenized_seqs, vocab_size\n",
        "        \n",
        "\n",
        "def pad(tokenized_seqs, vocab_size):\n",
        "\n",
        "\n",
        "    padded_seqs = []\n",
        "    \n",
        "    max_len = 0\n",
        "    for seq in tokenized_seqs:\n",
        "        max_len = max(len(seq), max_len)\n",
        "    \n",
        "    for seq in tokenized_seqs:\n",
        "        padded_seq = seq + [vocab_size['<pad>']] * (max_len - len(seq))\n",
        "        padded_seqs.append(padded_seq)\n",
        "        \n",
        "    return np.array(padded_seqs, dtype=np.float32)\n"
      ],
      "id": "7jUTUmNlhX9D"
    },
    {
      "cell_type": "code",
      "source": [
        "tokenized_seqs, vocab_size = tokenize_seq(seqs)\n",
        "\n",
        "tokenized_seqs = pad(tokenized_seqs, vocab_size)\n",
        "\n",
        "\n",
        "\n",
        "train_x, test_x, train_y, test_y = train_test_split(\n",
        "    tokenized_seqs, labels, test_size=0.1, random_state=42)\n",
        "\n",
        "train_dataloader, test_dataloader = data_loader(train_x, test_x, train_y, test_y, batch_size=50)"
      ],
      "metadata": {
        "id": "YfYCCil04Nu8"
      },
      "id": "YfYCCil04Nu8",
      "execution_count": null,
      "outputs": []
    },
    {
      "cell_type": "code",
      "source": [
        "def train(net, dataloader, epochs=50, lr=0.001, momentum=0.9, decay=0.005, verbose=1):\n",
        "\n",
        "  net.to(device)\n",
        "  losses_per_epoch = []\n",
        "  acc_per_epoch = []\n",
        "  test_per_epoch = []\n",
        "  criterion = nn.CrossEntropyLoss()\n",
        "  optimizer = optim.SGD(net.parameters(), lr=lr, momentum=momentum, weight_decay=decay)\n",
        "  for epoch in range(epochs):\n",
        "    sum_loss = 0.0\n",
        "    correct = 0\n",
        "    total= 0\n",
        "    losses = []\n",
        "    for i, batch in enumerate(dataloader, 0):\n",
        "        # get the inputs and labels\n",
        "        inputs, labels = batch\n",
        "        inputs, labels = inputs.to(device), labels.to(device)\n",
        "        # zero the parameter gradients\n",
        "        optimizer.zero_grad()\n",
        "        \n",
        "        # forward \n",
        "        outputs = net(inputs)\n",
        "        loss = criterion(outputs, labels)\n",
        "         # backward \n",
        "        loss.backward()\n",
        "         # optimize \n",
        "        optimizer.step()\n",
        "\n",
        "        # print \n",
        "        losses.append(loss.item())\n",
        "        sum_loss += loss.item()\n",
        "        \n",
        "        _, predicted = torch.max(outputs.data, 1)\n",
        "        total += labels.size(0)\n",
        "        correct += (predicted == labels).sum().item()\n",
        "        \n",
        "        if i % 100 == 99:    # print every 100 mini-batches\n",
        "            if verbose:\n",
        "              print('[%d, %5d] loss: %.3f' %\n",
        "                  (epoch + 1, i + 1, sum_loss / 100))\n",
        "            sum_loss = 0.0\n",
        "    \n",
        "    losses_per_epoch.append(np.mean(losses))\n",
        "    \n",
        "    acc_per_epoch.append(100 * correct / total) \n",
        "\n",
        "    # calculate acc on the test set \n",
        "    correct_test = 0\n",
        "    total_test = 0\n",
        "    with torch.no_grad():\n",
        "        for batch in test_dataloader:\n",
        "            input, labels = batch\n",
        "            input, labels = input.to(device), labels.to(device)\n",
        "            outputs = net(input)\n",
        "            _, predicted = torch.max(outputs.data, 1)\n",
        "            total_test += labels.size(0)\n",
        "            correct_test += (predicted == labels).sum().item()\n",
        "            \n",
        "    test_per_epoch.append(100 * correct_test / total_test)\n",
        "    \n",
        "  return losses_per_epoch, acc_per_epoch, test_per_epoch"
      ],
      "metadata": {
        "id": "xNc_VmLt4aYa"
      },
      "id": "xNc_VmLt4aYa",
      "execution_count": null,
      "outputs": []
    },
    {
      "cell_type": "code",
      "source": [
        "class Embedded_CNN(nn.Module):\n",
        "    def __init__(self, vocab_size, num_classes=2):\n",
        "\n",
        "\n",
        "        super(Embedded_CNN, self).__init__()\n",
        "        self.vocab_size = vocab_size\n",
        "\n",
        "        self.encoder = nn.Embedding(self.vocab_size, 2)\n",
        "        \n",
        "\n",
        "        self.Conv1 = nn.Conv1d(in_channels=2, out_channels=320, kernel_size=6)\n",
        "        self.Conv2 = nn.Conv1d(in_channels=320, out_channels=320, kernel_size=6)\n",
        "        self.Maxpool1 = nn.MaxPool1d(kernel_size=3, stride=3)\n",
        "        self.Drop1 = nn.Dropout(p=0.2)\n",
        "        \n",
        "        self.Conv3 = nn.Conv1d(in_channels=320, out_channels=480, kernel_size=6)\n",
        "        self.Conv4 = nn.Conv1d(in_channels=480, out_channels=480, kernel_size=6)\n",
        "        self.Maxpool2 = nn.MaxPool1d(kernel_size=3, stride=3)\n",
        "        self.Drop2 = nn.Dropout(p=0.2)\n",
        "\n",
        "        self.Conv5 = nn.Conv1d(in_channels=480, out_channels=960, kernel_size=6)\n",
        "        self.Conv6 = nn.Conv1d(in_channels=960, out_channels=960, kernel_size=6)\n",
        "        self.Drop3 = nn.Dropout(p=0.2)\n",
        "\n",
        "\n",
        "        \n",
        "        self.convs = nn.Sequential(self.Conv1,self.Conv2,self.Maxpool1,self.Drop1,\n",
        "                                    self.Conv3,self.Conv4,self.Maxpool2,self.Drop2,\n",
        "                                   self.Conv5, self.Conv6, self.Drop3,                 \n",
        "                                    )\n",
        "        \n",
        "        self.Linear1 = nn.Linear(960*41, 2004)\n",
        "        self.Linear2 = nn.Linear(2004, 2)\n",
        "\n",
        "\n",
        "\n",
        "    def forward(self, x):\n",
        "      \n",
        "        x = torch.tensor(x).to(torch.int64)\n",
        "\n",
        "        x = self.encoder(x)\n",
        "\n",
        "        x = x.permute(0, 2, 1)\n",
        "\n",
        "        x = self.convs(x)\n",
        "        \n",
        "        x = x.view(-1, 960 * 41)\n",
        "\n",
        "        x = self.Linear1(x)\n",
        "\n",
        "        x = F.relu(x)\n",
        "        x = self.Linear2(x)\n",
        "\n",
        "        return x\n",
        "\n"
      ],
      "metadata": {
        "id": "YFx19scX4eML"
      },
      "id": "YFx19scX4eML",
      "execution_count": null,
      "outputs": []
    },
    {
      "cell_type": "code",
      "source": [
        "net = Embedded_CNN(len(vocab_size))"
      ],
      "metadata": {
        "id": "fZ8YqP074mke"
      },
      "id": "fZ8YqP074mke",
      "execution_count": null,
      "outputs": []
    },
    {
      "cell_type": "code",
      "source": [
        "Embedded_loss,Embedded_acc,Embedded_acc_test = train(net,train_dataloader,epochs=50 )"
      ],
      "metadata": {
        "colab": {
          "base_uri": "https://localhost:8080/"
        },
        "id": "q2etKBvf4pEH",
        "outputId": "3ee263a6-c5ac-4b92-93ca-08aeee0e0e9b"
      },
      "id": "q2etKBvf4pEH",
      "execution_count": null,
      "outputs": [
        {
          "metadata": {
            "tags": null
          },
          "name": "stderr",
          "output_type": "stream",
          "text": [
            "<ipython-input-10-04e89d323c86>:39: UserWarning: To copy construct from a tensor, it is recommended to use sourceTensor.clone().detach() or sourceTensor.clone().detach().requires_grad_(True), rather than torch.tensor(sourceTensor).\n",
            "  x = torch.tensor(x).to(torch.int64)\n"
          ]
        },
        {
          "output_type": "stream",
          "name": "stdout",
          "text": [
            "[1,   100] loss: 0.691\n",
            "[1,   200] loss: 0.682\n",
            "[1,   300] loss: 0.653\n",
            "[1,   400] loss: 0.638\n",
            "[1,   500] loss: 0.623\n",
            "[2,   100] loss: 0.611\n",
            "[2,   200] loss: 0.595\n",
            "[2,   300] loss: 0.579\n",
            "[2,   400] loss: 0.582\n",
            "[2,   500] loss: 0.586\n",
            "[3,   100] loss: 0.567\n",
            "[3,   200] loss: 0.557\n",
            "[3,   300] loss: 0.552\n",
            "[3,   400] loss: 0.541\n",
            "[3,   500] loss: 0.554\n",
            "[4,   100] loss: 0.540\n",
            "[4,   200] loss: 0.541\n",
            "[4,   300] loss: 0.530\n",
            "[4,   400] loss: 0.533\n",
            "[4,   500] loss: 0.518\n",
            "[5,   100] loss: 0.510\n",
            "[5,   200] loss: 0.515\n",
            "[5,   300] loss: 0.534\n",
            "[5,   400] loss: 0.513\n",
            "[5,   500] loss: 0.514\n",
            "[6,   100] loss: 0.509\n",
            "[6,   200] loss: 0.493\n",
            "[6,   300] loss: 0.515\n",
            "[6,   400] loss: 0.498\n",
            "[6,   500] loss: 0.507\n",
            "[7,   100] loss: 0.495\n",
            "[7,   200] loss: 0.496\n",
            "[7,   300] loss: 0.495\n",
            "[7,   400] loss: 0.492\n",
            "[7,   500] loss: 0.481\n",
            "[8,   100] loss: 0.482\n",
            "[8,   200] loss: 0.492\n",
            "[8,   300] loss: 0.482\n",
            "[8,   400] loss: 0.487\n",
            "[8,   500] loss: 0.488\n",
            "[9,   100] loss: 0.480\n",
            "[9,   200] loss: 0.481\n",
            "[9,   300] loss: 0.461\n",
            "[9,   400] loss: 0.493\n",
            "[9,   500] loss: 0.486\n",
            "[10,   100] loss: 0.498\n",
            "[10,   200] loss: 0.463\n",
            "[10,   300] loss: 0.469\n",
            "[10,   400] loss: 0.487\n",
            "[10,   500] loss: 0.467\n",
            "[11,   100] loss: 0.491\n",
            "[11,   200] loss: 0.468\n",
            "[11,   300] loss: 0.475\n",
            "[11,   400] loss: 0.472\n",
            "[11,   500] loss: 0.486\n",
            "[12,   100] loss: 0.472\n",
            "[12,   200] loss: 0.481\n",
            "[12,   300] loss: 0.461\n",
            "[12,   400] loss: 0.465\n",
            "[12,   500] loss: 0.466\n",
            "[13,   100] loss: 0.455\n",
            "[13,   200] loss: 0.484\n",
            "[13,   300] loss: 0.471\n",
            "[13,   400] loss: 0.457\n",
            "[13,   500] loss: 0.471\n",
            "[14,   100] loss: 0.457\n",
            "[14,   200] loss: 0.478\n",
            "[14,   300] loss: 0.461\n",
            "[14,   400] loss: 0.460\n",
            "[14,   500] loss: 0.463\n",
            "[15,   100] loss: 0.451\n",
            "[15,   200] loss: 0.469\n",
            "[15,   300] loss: 0.462\n",
            "[15,   400] loss: 0.464\n",
            "[15,   500] loss: 0.458\n",
            "[16,   100] loss: 0.457\n",
            "[16,   200] loss: 0.444\n",
            "[16,   300] loss: 0.454\n",
            "[16,   400] loss: 0.453\n",
            "[16,   500] loss: 0.467\n",
            "[17,   100] loss: 0.459\n",
            "[17,   200] loss: 0.466\n",
            "[17,   300] loss: 0.455\n",
            "[17,   400] loss: 0.438\n",
            "[17,   500] loss: 0.462\n",
            "[18,   100] loss: 0.453\n",
            "[18,   200] loss: 0.470\n",
            "[18,   300] loss: 0.450\n",
            "[18,   400] loss: 0.447\n",
            "[18,   500] loss: 0.455\n",
            "[19,   100] loss: 0.444\n",
            "[19,   200] loss: 0.448\n",
            "[19,   300] loss: 0.442\n",
            "[19,   400] loss: 0.451\n",
            "[19,   500] loss: 0.450\n",
            "[20,   100] loss: 0.467\n",
            "[20,   200] loss: 0.446\n",
            "[20,   300] loss: 0.445\n",
            "[20,   400] loss: 0.446\n",
            "[20,   500] loss: 0.452\n",
            "[21,   100] loss: 0.450\n",
            "[21,   200] loss: 0.451\n",
            "[21,   300] loss: 0.448\n",
            "[21,   400] loss: 0.436\n",
            "[21,   500] loss: 0.454\n",
            "[22,   100] loss: 0.441\n",
            "[22,   200] loss: 0.438\n",
            "[22,   300] loss: 0.452\n",
            "[22,   400] loss: 0.454\n",
            "[22,   500] loss: 0.448\n",
            "[23,   100] loss: 0.460\n",
            "[23,   200] loss: 0.441\n",
            "[23,   300] loss: 0.446\n",
            "[23,   400] loss: 0.447\n",
            "[23,   500] loss: 0.439\n",
            "[24,   100] loss: 0.456\n",
            "[24,   200] loss: 0.450\n",
            "[24,   300] loss: 0.457\n",
            "[24,   400] loss: 0.448\n",
            "[24,   500] loss: 0.442\n",
            "[25,   100] loss: 0.440\n",
            "[25,   200] loss: 0.445\n",
            "[25,   300] loss: 0.444\n",
            "[25,   400] loss: 0.433\n",
            "[25,   500] loss: 0.463\n",
            "[26,   100] loss: 0.455\n",
            "[26,   200] loss: 0.458\n",
            "[26,   300] loss: 0.437\n",
            "[26,   400] loss: 0.436\n",
            "[26,   500] loss: 0.449\n",
            "[27,   100] loss: 0.426\n",
            "[27,   200] loss: 0.438\n",
            "[27,   300] loss: 0.445\n",
            "[27,   400] loss: 0.450\n",
            "[27,   500] loss: 0.454\n",
            "[28,   100] loss: 0.443\n",
            "[28,   200] loss: 0.444\n",
            "[28,   300] loss: 0.447\n",
            "[28,   400] loss: 0.440\n",
            "[28,   500] loss: 0.445\n",
            "[29,   100] loss: 0.435\n",
            "[29,   200] loss: 0.446\n",
            "[29,   300] loss: 0.442\n",
            "[29,   400] loss: 0.445\n",
            "[29,   500] loss: 0.447\n",
            "[30,   100] loss: 0.446\n",
            "[30,   200] loss: 0.429\n",
            "[30,   300] loss: 0.440\n",
            "[30,   400] loss: 0.439\n",
            "[30,   500] loss: 0.446\n",
            "[31,   100] loss: 0.447\n",
            "[31,   200] loss: 0.430\n",
            "[31,   300] loss: 0.439\n",
            "[31,   400] loss: 0.446\n",
            "[31,   500] loss: 0.456\n",
            "[32,   100] loss: 0.438\n",
            "[32,   200] loss: 0.437\n",
            "[32,   300] loss: 0.430\n",
            "[32,   400] loss: 0.450\n",
            "[32,   500] loss: 0.433\n",
            "[33,   100] loss: 0.446\n",
            "[33,   200] loss: 0.445\n",
            "[33,   300] loss: 0.427\n",
            "[33,   400] loss: 0.442\n",
            "[33,   500] loss: 0.438\n",
            "[34,   100] loss: 0.443\n",
            "[34,   200] loss: 0.448\n",
            "[34,   300] loss: 0.434\n",
            "[34,   400] loss: 0.427\n",
            "[34,   500] loss: 0.436\n",
            "[35,   100] loss: 0.435\n",
            "[35,   200] loss: 0.423\n",
            "[35,   300] loss: 0.448\n",
            "[35,   400] loss: 0.450\n",
            "[35,   500] loss: 0.439\n",
            "[36,   100] loss: 0.420\n",
            "[36,   200] loss: 0.431\n",
            "[36,   300] loss: 0.438\n",
            "[36,   400] loss: 0.440\n",
            "[36,   500] loss: 0.443\n",
            "[37,   100] loss: 0.440\n",
            "[37,   200] loss: 0.434\n",
            "[37,   300] loss: 0.431\n",
            "[37,   400] loss: 0.447\n",
            "[37,   500] loss: 0.434\n",
            "[38,   100] loss: 0.429\n",
            "[38,   200] loss: 0.424\n",
            "[38,   300] loss: 0.433\n",
            "[38,   400] loss: 0.448\n",
            "[38,   500] loss: 0.430\n",
            "[39,   100] loss: 0.436\n",
            "[39,   200] loss: 0.425\n",
            "[39,   300] loss: 0.440\n",
            "[39,   400] loss: 0.441\n",
            "[39,   500] loss: 0.432\n",
            "[40,   100] loss: 0.426\n",
            "[40,   200] loss: 0.416\n",
            "[40,   300] loss: 0.439\n",
            "[40,   400] loss: 0.438\n",
            "[40,   500] loss: 0.434\n",
            "[41,   100] loss: 0.432\n",
            "[41,   200] loss: 0.440\n",
            "[41,   300] loss: 0.419\n",
            "[41,   400] loss: 0.437\n",
            "[41,   500] loss: 0.429\n",
            "[42,   100] loss: 0.422\n",
            "[42,   200] loss: 0.425\n",
            "[42,   300] loss: 0.434\n",
            "[42,   400] loss: 0.434\n",
            "[42,   500] loss: 0.436\n",
            "[43,   100] loss: 0.426\n",
            "[43,   200] loss: 0.424\n",
            "[43,   300] loss: 0.436\n",
            "[43,   400] loss: 0.443\n",
            "[43,   500] loss: 0.436\n",
            "[44,   100] loss: 0.432\n",
            "[44,   200] loss: 0.414\n",
            "[44,   300] loss: 0.431\n",
            "[44,   400] loss: 0.442\n",
            "[44,   500] loss: 0.436\n",
            "[45,   100] loss: 0.421\n",
            "[45,   200] loss: 0.426\n",
            "[45,   300] loss: 0.444\n",
            "[45,   400] loss: 0.426\n",
            "[45,   500] loss: 0.431\n",
            "[46,   100] loss: 0.411\n",
            "[46,   200] loss: 0.440\n",
            "[46,   300] loss: 0.420\n",
            "[46,   400] loss: 0.451\n",
            "[46,   500] loss: 0.419\n",
            "[47,   100] loss: 0.412\n",
            "[47,   200] loss: 0.425\n",
            "[47,   300] loss: 0.428\n",
            "[47,   400] loss: 0.442\n",
            "[47,   500] loss: 0.426\n",
            "[48,   100] loss: 0.430\n",
            "[48,   200] loss: 0.431\n",
            "[48,   300] loss: 0.424\n",
            "[48,   400] loss: 0.430\n",
            "[48,   500] loss: 0.424\n",
            "[49,   100] loss: 0.442\n",
            "[49,   200] loss: 0.421\n",
            "[49,   300] loss: 0.434\n",
            "[49,   400] loss: 0.434\n",
            "[49,   500] loss: 0.426\n",
            "[50,   100] loss: 0.427\n",
            "[50,   200] loss: 0.425\n",
            "[50,   300] loss: 0.431\n",
            "[50,   400] loss: 0.425\n",
            "[50,   500] loss: 0.425\n"
          ]
        }
      ]
    },
    {
      "cell_type": "code",
      "source": [
        "eval(net, train_dataloader, test_dataloader)"
      ],
      "metadata": {
        "colab": {
          "base_uri": "https://localhost:8080/"
        },
        "id": "FHiIAHOSE-cf",
        "outputId": "f13e9cae-365c-42bd-f378-7b5736a920be"
      },
      "id": "FHiIAHOSE-cf",
      "execution_count": null,
      "outputs": [
        {
          "output_type": "stream",
          "name": "stderr",
          "text": [
            "<ipython-input-10-04e89d323c86>:39: UserWarning: To copy construct from a tensor, it is recommended to use sourceTensor.clone().detach() or sourceTensor.clone().detach().requires_grad_(True), rather than torch.tensor(sourceTensor).\n",
            "  x = torch.tensor(x).to(torch.int64)\n"
          ]
        },
        {
          "output_type": "stream",
          "name": "stdout",
          "text": [
            "Train accuracy: 0.8200978692251377\n",
            "Test accuracy: 0.8068654646324549\n"
          ]
        },
        {
          "output_type": "execute_result",
          "data": {
            "text/plain": [
              "(0.8197510885061458, 0.8040915395284327)"
            ]
          },
          "metadata": {},
          "execution_count": 15
        }
      ]
    },
    {
      "cell_type": "code",
      "source": [
        "with open(\"acc_test_1.txt\", \"w\") as output:\n",
        "    output.write(str(Embedded_acc_test))"
      ],
      "metadata": {
        "id": "vN6d1WIlFv3j"
      },
      "id": "vN6d1WIlFv3j",
      "execution_count": null,
      "outputs": []
    },
    {
      "cell_type": "code",
      "source": [
        "torch.save(net.state_dict(), 'EmbeddedCNN.pth')"
      ],
      "metadata": {
        "id": "wVacp0VFGC3h"
      },
      "id": "wVacp0VFGC3h",
      "execution_count": null,
      "outputs": []
    },
    {
      "cell_type": "code",
      "source": [
        "!cp EmbeddedCNN.pth /content/drive/MyDrive"
      ],
      "metadata": {
        "id": "HpxDv0uOGLe1"
      },
      "id": "HpxDv0uOGLe1",
      "execution_count": null,
      "outputs": []
    },
    {
      "cell_type": "code",
      "source": [
        "plot_losses(Embedded_loss, title = \"Vector Embedded: Convolutional Network Loss\")"
      ],
      "metadata": {
        "colab": {
          "base_uri": "https://localhost:8080/",
          "height": 295
        },
        "id": "0SSVq-qEGlgd",
        "outputId": "9217c193-5020-47bc-cc9c-bf914ddcf14e"
      },
      "id": "0SSVq-qEGlgd",
      "execution_count": null,
      "outputs": [
        {
          "output_type": "display_data",
          "data": {
            "text/plain": [
              "<Figure size 432x288 with 1 Axes>"
            ],
            "image/png": "[encoded data removed]"
          },
          "metadata": {
            "needs_background": "light"
          }
        }
      ]
    },
    {
      "cell_type": "code",
      "source": [
        "plot_acc(Embedded_acc, title = \"Vector Embedded: Convolutional Network training Acc\")"
      ],
      "metadata": {
        "colab": {
          "base_uri": "https://localhost:8080/",
          "height": 295
        },
        "id": "gIvXPr89GzWl",
        "outputId": "0b293ee9-8325-4f34-deac-03f027fa0192"
      },
      "id": "gIvXPr89GzWl",
      "execution_count": null,
      "outputs": [
        {
          "output_type": "display_data",
          "data": {
            "text/plain": [
              "<Figure size 432x288 with 1 Axes>"
            ],
            "image/png": "[encoded data removed]"
          },
          "metadata": {
            "needs_background": "light"
          }
        }
      ]
    },
    {
      "cell_type": "code",
      "source": [
        "plot_acc(Embedded_acc_test, title = \"Vector Embedded: Convolutional Network test Acc\")"
      ],
      "metadata": {
        "colab": {
          "base_uri": "https://localhost:8080/",
          "height": 295
        },
        "id": "V-To1UawG5Rn",
        "outputId": "65e62cd2-ed06-49a6-c86e-840f76f5aed9"
      },
      "id": "V-To1UawG5Rn",
      "execution_count": null,
      "outputs": [
        {
          "output_type": "display_data",
          "data": {
            "text/plain": [
              "<Figure size 432x288 with 1 Axes>"
            ],
            "image/png": "[encoded data removed]"
          },
          "metadata": {
            "needs_background": "light"
          }
        }
      ]
    },
    {
      "cell_type": "markdown",
      "source": [
        "# **Model Evaluation**"
      ],
      "metadata": {
        "id": "ts37c-hTjVL-"
      },
      "id": "ts37c-hTjVL-"
    },
    {
      "cell_type": "code",
      "source": [
        "acc_onehot = [53.43505567757099, 68.62405116942165, 72.05332716834278, 73.91823681269987, 74.97784456517552, 76.09524910414981, 77.69044041151312, 78.02566177320541, 78.36858937309752, 78.55353908989326, 78.87720109428582, 79.13536007397988, 79.17003814587909, 79.42819712557315, 79.86745270296305, 79.478287673872, 79.72103417716642, 79.93680884676145, 79.9213963703618, 79.89442453666243, 80.24505837475436, 80.42615497245019, 80.40688937695064, 80.36835818595152, 80.27973644665357, 80.28358956575347, 80.15258351635649, 80.09093361075792, 80.53789542634763, 80.41459561515046, 80.22964589835472, 80.26047085115401, 80.88467614533965, 80.66119523754479, 80.49551111624861, 81.08118521943513, 80.65348899934497, 81.09274457673487, 80.9309135745386, 81.00412283743691, 81.173660077833, 80.95403228913806, 80.90394174083922, 81.35090355642893, 81.27769429353062, 81.21604438793203, 80.53789542634763, 81.35475667552885, 81.30851924632991, 81.1351288868339]\n",
        "acc_embedded = [60.84845682580048, 69.29449389280623, 72.5696451277309, 74.21107386429314, 75.30150656956806, 76.49982660964051, 77.4438407891188, 77.77520903171117, 78.48418294609486, 78.47262358879513, 78.27996763379956, 78.91573228528493, 79.28563171887643, 79.31260355257581, 79.38966593457404, 79.97534003776056, 79.82506839286403, 79.92910260856164, 80.30285516125304, 80.18340846915578, 80.34909259045197, 80.46853928254923, 80.56486726004701, 80.10249296805765, 80.35294570955189, 80.44542056794975, 80.75367009594267, 80.58798597464647, 80.49165799714869, 80.65734211844489, 80.4608330443494, 81.05036026663583, 80.70357954764381, 80.89623550263939, 80.95017917003814, 81.173660077833, 80.91935421723886, 81.24301622163141, 80.79605440604169, 81.41255346202752, 81.45108465302663, 81.41640658112742, 81.16210072053327, 81.30081300813008, 81.32778484182946, 81.25842869803105, 81.4395252957269, 81.37016915192848, 80.98100412283743, 81.39714098562787]\n",
        "\n",
        "acc_test_onehot = [61.754507628294036, 63.90429958391123, 73.71705963938973, 74.20249653259361, 76.62968099861304, 77.80859916782246, 76.42163661581138, 78.36338418862691, 79.09153952843273, 78.84882108183079, 78.12066574202497, 79.92371705963939, 79.50762829403607, 79.71567267683773, 81.06796116504854, 76.90707350901526, 80.54785020804438, 79.6116504854369, 80.374479889043, 78.6754507628294, 80.65187239944521, 78.36338418862691, 81.2760055478502, 80.89459084604715, 80.30513176144244, 77.04576976421636, 80.61719833564494, 80.85991678224688, 81.31067961165049, 79.8890429958391, 76.45631067961165, 77.98196948682386, 80.40915395284327, 79.85436893203884, 78.15533980582525, 77.98196948682386, 73.47434119278779, 81.41470180305132, 80.96393897364771, 79.02219140083218, 80.09708737864078, 80.30513176144244, 80.30513176144244, 79.71567267683773, 80.65187239944521, 81.10263522884883, 79.6116504854369, 80.96393897364771, 80.65187239944521, 80.02773925104022]\n",
        "acc_test_embedded = [67.1636615811373, 70.5617198335645, 74.2371705963939, 75.69348127600554, 75.58945908460471, 76.35228848821082, 76.87239944521498, 78.9875173370319, 72.12205270457697, 73.02357836338419, 76.24826629680999, 78.08599167822469, 80.23578363384189, 80.54785020804438, 78.84882108183079, 80.54785020804438, 79.47295423023579, 80.0624133148405, 80.58252427184466, 80.58252427184466, 77.39251040221914, 78.43273231622746, 80.20110957004161, 80.20110957004161, 81.76144244105409, 80.374479889043, 80.85991678224688, 79.8890429958391, 79.68099861303745, 81.24133148404994, 81.03328710124826, 80.58252427184466, 79.64632454923716, 80.0624133148405, 78.29403606102635, 79.99306518723995, 80.72122052704577, 80.75589459084604, 79.12621359223301, 80.54785020804438, 80.47850208044383, 80.998613037448, 80.8252427184466, 81.13730929264909, 81.38002773925103, 80.30513176144244, 80.72122052704577, 78.25936199722608, 81.48404993065188, 81.03328710124826]\n",
        "\n",
        "loss_onehot = [0.6873024037251105, 0.6077470740446678, 0.5571199778753978, 0.5324605903946437, 0.5203388563142373, 0.5059502457196896, 0.48926444861751334, 0.4829572099619187, 0.48002384405296583, 0.4750557867380289, 0.4706818668888165, 0.46871195022876444, 0.46689890468349826, 0.4607369708613707, 0.45725879170573674, 0.45813510555487413, 0.4586437382377111, 0.45501099208799695, 0.4555033503816678, 0.4525689266335506, 0.4518690114984146, 0.4486955070724854, 0.4493089871910902, 0.44743600327235, 0.4489680969657806, 0.4520635206825458, 0.44748481959104536, 0.4495315184386877, 0.44190136896303067, 0.44774814050358075, 0.44655342276852866, 0.44509059643516174, 0.43983384175942497, 0.4425517735572962, 0.44401221281060804, 0.4386891881720378, 0.4404871491285471, 0.43613415343257095, 0.4387753801850172, 0.4391214199364185, 0.43893316944058125, 0.43657026786643727, 0.4380911586089776, 0.43448344512054554, 0.4362102093604895, 0.43493479513205013, 0.4408075649577838, 0.4327478374999303, 0.43479498750888385, 0.4349940774532465]\n",
        "loss_embedded = [0.6543279685653173, 0.5889267307634537, 0.5534403923039253, 0.5302756664558099, 0.5172987000873456, 0.5051727527036116, 0.49139343694998666, 0.48633760827092026, 0.47993512422992635, 0.4780702900428038, 0.4794226417747828, 0.46889887886265147, 0.4682097099721432, 0.46369705085570995, 0.46060339971803704, 0.4566627223904316, 0.45617312429329526, 0.45418898047736056, 0.4489270640107302, 0.45046849222137375, 0.44910260301369886, 0.4461327816431339, 0.4443270279237857, 0.45061840168558637, 0.4459440253674984, 0.4477674309737407, 0.4422343981094085, 0.44427293175115035, 0.4431760644683471, 0.4395847891529019, 0.4426350133063702, 0.4374420768652971, 0.43996276780962945, 0.43756171284386747, 0.43818230436971556, 0.435080816080937, 0.43654565507402787, 0.433796501904726, 0.43428307118324133, 0.43159999027848245, 0.43095542086431615, 0.42978163135166353, 0.4329609389775074, 0.430500894641647, 0.42979983816353173, 0.4282493802217337, 0.42611865073155897, 0.4278102836643274, 0.4306806622216335, 0.4264126795129134]\n"
      ],
      "metadata": {
        "id": "gZnKH0roXChi"
      },
      "id": "gZnKH0roXChi",
      "execution_count": null,
      "outputs": []
    },
    {
      "cell_type": "code",
      "source": [
        "epochs = range(0,50)\n",
        "plt.plot(epochs, acc_test_onehot, linestyle=\"dashed\", label=\"Onehot Encoded Sequence\")\n",
        "plt.plot(epochs, acc_test_embedded, linestyle=\"dashed\", label=\"Vectorized Sequence\")\n",
        "plt.legend(loc=\"lower right\")\n",
        "plt.xlabel(\"Epoch\")\n",
        "plt.ylabel(\"Acc\")\n",
        "plt.title(\"Accuracy on the test set\")"
      ],
      "metadata": {
        "colab": {
          "base_uri": "https://localhost:8080/",
          "height": 312
        },
        "id": "W0QiO83gWM9t",
        "outputId": "56f43543-fbf8-4795-f082-a9ea02de0df0"
      },
      "id": "W0QiO83gWM9t",
      "execution_count": null,
      "outputs": [
        {
          "output_type": "execute_result",
          "data": {
            "text/plain": [
              "Text(0.5, 1.0, 'Accuracy on the test set')"
            ]
          },
          "metadata": {},
          "execution_count": 34
        },
        {
          "output_type": "display_data",
          "data": {
            "text/plain": [
              "<Figure size 432x288 with 1 Axes>"
            ],
            "image/png": "[encoded data removed]"
          },
          "metadata": {
            "needs_background": "light"
          }
        }
      ]
    },
    {
      "cell_type": "code",
      "source": [
        "epochs = range(0,50)\n",
        "plt.plot(epochs, loss_onehot, linestyle=\"dashed\", label=\"Onehot Encoded Sequence\")\n",
        "plt.plot(epochs, loss_embedded, linestyle=\"dashed\", label=\"Vectorized Sequence\")\n",
        "plt.legend(loc=\"upper right\")\n",
        "plt.xlabel(\"Epoch\")\n",
        "plt.ylabel(\"Loss\")\n",
        "plt.title(\"Training loss\")"
      ],
      "metadata": {
        "colab": {
          "base_uri": "https://localhost:8080/",
          "height": 312
        },
        "id": "cCjkPjr_Y523",
        "outputId": "7a94d5ed-4307-45f3-9990-bbc670f86d47"
      },
      "id": "cCjkPjr_Y523",
      "execution_count": null,
      "outputs": [
        {
          "output_type": "execute_result",
          "data": {
            "text/plain": [
              "Text(0.5, 1.0, 'Training loss')"
            ]
          },
          "metadata": {},
          "execution_count": 40
        },
        {
          "output_type": "display_data",
          "data": {
            "text/plain": [
              "<Figure size 432x288 with 1 Axes>"
            ],
            "image/png": "[encoded data removed]"
          },
          "metadata": {
            "needs_background": "light"
          }
        }
      ]
    },
    {
      "cell_type": "code",
      "source": [
        "CNN_onehot = OnehotCNN()\n",
        "CNN_onehot.load_state_dict(torch.load('/content/OneHotCNN.pth', map_location=torch.device('cpu')))\n",
        "\n",
        "CNN_Embedded = Embedded_CNN(len(vocab_size))\n",
        "CNN_Embedded.load_state_dict(torch.load('/content/EmbeddedCNN.pth', map_location=torch.device('cpu')))\n"
      ],
      "metadata": {
        "colab": {
          "base_uri": "https://localhost:8080/"
        },
        "id": "coythXW9kCjb",
        "outputId": "4b2d0f48-ee6b-4d88-8c8c-614544c57b8b"
      },
      "id": "coythXW9kCjb",
      "execution_count": null,
      "outputs": [
        {
          "output_type": "execute_result",
          "data": {
            "text/plain": [
              "<All keys matched successfully>"
            ]
          },
          "metadata": {},
          "execution_count": 20
        }
      ]
    },
    {
      "cell_type": "code",
      "source": [
        "preds=torch.zeros(0,dtype=torch.long, device='cpu')\n",
        "targets=torch.zeros(0,dtype=torch.long, device='cpu')\n",
        "\n",
        "with torch.no_grad():\n",
        "    for batch in test_dataloader:\n",
        "        input, labels = batch\n",
        "        input, labels = input.to(device), labels.to(device)\n",
        "        outputs = CNN_Embedded(input)\n",
        "        _, predicted = torch.max(outputs.data, 1)\n",
        "\n",
        "        preds=torch.cat([preds,predicted.view(-1).cpu()])\n",
        "        targets=torch.cat([targets,labels.view(-1).cpu()])\n",
        "\n",
        "print('CNN - Sequence to  Vector')\n",
        "print(accuracy_score(targets, preds))\n",
        "print(classification_report(targets, preds))"
      ],
      "metadata": {
        "colab": {
          "base_uri": "https://localhost:8080/"
        },
        "id": "3qVDFSwXlcGz",
        "outputId": "e9ed26f3-e423-4d51-9eff-576889a43ea7"
      },
      "id": "3qVDFSwXlcGz",
      "execution_count": null,
      "outputs": [
        {
          "output_type": "stream",
          "name": "stderr",
          "text": [
            "<ipython-input-11-04e89d323c86>:39: UserWarning: To copy construct from a tensor, it is recommended to use sourceTensor.clone().detach() or sourceTensor.clone().detach().requires_grad_(True), rather than torch.tensor(sourceTensor).\n",
            "  x = torch.tensor(x).to(torch.int64)\n"
          ]
        },
        {
          "output_type": "stream",
          "name": "stdout",
          "text": [
            "CNN - Sequence to  Vector\n",
            "0.8075589459084604\n",
            "              precision    recall  f1-score   support\n",
            "\n",
            "           0       0.80      0.80      0.80      1379\n",
            "           1       0.81      0.82      0.82      1505\n",
            "\n",
            "    accuracy                           0.81      2884\n",
            "   macro avg       0.81      0.81      0.81      2884\n",
            "weighted avg       0.81      0.81      0.81      2884\n",
            "\n"
          ]
        }
      ]
    },
    {
      "cell_type": "code",
      "source": [
        "preds=torch.zeros(0,dtype=torch.long, device='cpu')\n",
        "targets=torch.zeros(0,dtype=torch.long, device='cpu')\n",
        "\n",
        "with torch.no_grad():\n",
        "    for batch in test_dataloader:\n",
        "        input, labels = batch\n",
        "        input, labels = input.to(device), labels.to(device)\n",
        "        outputs = CNN_onehot(input.float())\n",
        "        _, predicted = torch.max(outputs.data, 1)\n",
        "\n",
        "        preds=torch.cat([preds,predicted.view(-1).cpu()])\n",
        "        targets=torch.cat([targets,labels.view(-1).cpu()])\n",
        "\n",
        "print('CNN - Onehot Encoded')\n",
        "print(accuracy_score(targets, preds))\n",
        "print(classification_report(targets, preds))"
      ],
      "metadata": {
        "colab": {
          "base_uri": "https://localhost:8080/"
        },
        "id": "n711YUS60gCv",
        "outputId": "bf8364f8-de2c-4af9-822f-3ff66e5c1d8e"
      },
      "id": "n711YUS60gCv",
      "execution_count": null,
      "outputs": [
        {
          "output_type": "stream",
          "name": "stdout",
          "text": [
            "CNN - Onehot Encoded\n",
            "0.8002773925104022\n",
            "              precision    recall  f1-score   support\n",
            "\n",
            "           0       0.88      0.67      0.76      1379\n",
            "           1       0.75      0.92      0.83      1505\n",
            "\n",
            "    accuracy                           0.80      2884\n",
            "   macro avg       0.82      0.79      0.80      2884\n",
            "weighted avg       0.82      0.80      0.80      2884\n",
            "\n"
          ]
        }
      ]
    }
  ],
  "metadata": {
    "colab": {
      "provenance": []
    },
    "kernelspec": {
      "display_name": "Python 3 (ipykernel)",
      "language": "python",
      "name": "python3"
    },
    "language_info": {
      "codemirror_mode": {
        "name": "ipython",
        "version": 3
      },
      "file_extension": ".py",
      "mimetype": "text/x-python",
      "name": "python",
      "nbconvert_exporter": "python",
      "pygments_lexer": "ipython3",
      "version": "3.9.7"
    },
    "accelerator": "GPU",
    "gpuClass": "standard"
  },
  "nbformat": 4,
  "nbformat_minor": 5
}